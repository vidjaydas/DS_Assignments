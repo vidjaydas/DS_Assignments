{
  "nbformat": 4,
  "nbformat_minor": 0,
  "metadata": {
    "colab": {
      "name": "K-Means_Cluster_Assignment_Crime Data.ipynb",
      "provenance": [],
      "collapsed_sections": [],
      "authorship_tag": "ABX9TyP0N/oy7eLY2C9F9dpblaIl",
      "include_colab_link": true
    },
    "kernelspec": {
      "name": "python3",
      "display_name": "Python 3"
    },
    "language_info": {
      "name": "python"
    }
  },
  "cells": [
    {
      "cell_type": "markdown",
      "metadata": {
        "id": "view-in-github",
        "colab_type": "text"
      },
      "source": [
        "<a href=\"https://colab.research.google.com/github/vidjaydas/DS_Assignments/blob/main/K_Means_Cluster_Assignment_Crime_Data.ipynb\" target=\"_parent\"><img src=\"https://colab.research.google.com/assets/colab-badge.svg\" alt=\"Open In Colab\"/></a>"
      ]
    },
    {
      "cell_type": "markdown",
      "metadata": {
        "id": "OdGPYKaEosSu"
      },
      "source": [
        "#Performing K-Means clustering method on Crime data set"
      ]
    },
    {
      "cell_type": "code",
      "metadata": {
        "id": "mQI6kkqQofe8"
      },
      "source": [
        "import pandas as pd\n",
        "import numpy as np\n",
        "from matplotlib import pyplot as plt\n",
        "from sklearn.cluster import KMeans"
      ],
      "execution_count": 1,
      "outputs": []
    },
    {
      "cell_type": "code",
      "metadata": {
        "id": "UGStKdLcpOvQ"
      },
      "source": [
        "data = pd.read_csv('/content/crime_data.csv')"
      ],
      "execution_count": 2,
      "outputs": []
    },
    {
      "cell_type": "code",
      "metadata": {
        "colab": {
          "base_uri": "https://localhost:8080/",
          "height": 204
        },
        "id": "1o5L64gipXLS",
        "outputId": "b2ef5573-aa2b-4cc1-831d-47b3b57e50bb"
      },
      "source": [
        "data.head()"
      ],
      "execution_count": 4,
      "outputs": [
        {
          "output_type": "execute_result",
          "data": {
            "text/html": [
              "<div>\n",
              "<style scoped>\n",
              "    .dataframe tbody tr th:only-of-type {\n",
              "        vertical-align: middle;\n",
              "    }\n",
              "\n",
              "    .dataframe tbody tr th {\n",
              "        vertical-align: top;\n",
              "    }\n",
              "\n",
              "    .dataframe thead th {\n",
              "        text-align: right;\n",
              "    }\n",
              "</style>\n",
              "<table border=\"1\" class=\"dataframe\">\n",
              "  <thead>\n",
              "    <tr style=\"text-align: right;\">\n",
              "      <th></th>\n",
              "      <th>Unnamed: 0</th>\n",
              "      <th>Murder</th>\n",
              "      <th>Assault</th>\n",
              "      <th>UrbanPop</th>\n",
              "      <th>Rape</th>\n",
              "    </tr>\n",
              "  </thead>\n",
              "  <tbody>\n",
              "    <tr>\n",
              "      <th>0</th>\n",
              "      <td>Alabama</td>\n",
              "      <td>13.2</td>\n",
              "      <td>236</td>\n",
              "      <td>58</td>\n",
              "      <td>21.2</td>\n",
              "    </tr>\n",
              "    <tr>\n",
              "      <th>1</th>\n",
              "      <td>Alaska</td>\n",
              "      <td>10.0</td>\n",
              "      <td>263</td>\n",
              "      <td>48</td>\n",
              "      <td>44.5</td>\n",
              "    </tr>\n",
              "    <tr>\n",
              "      <th>2</th>\n",
              "      <td>Arizona</td>\n",
              "      <td>8.1</td>\n",
              "      <td>294</td>\n",
              "      <td>80</td>\n",
              "      <td>31.0</td>\n",
              "    </tr>\n",
              "    <tr>\n",
              "      <th>3</th>\n",
              "      <td>Arkansas</td>\n",
              "      <td>8.8</td>\n",
              "      <td>190</td>\n",
              "      <td>50</td>\n",
              "      <td>19.5</td>\n",
              "    </tr>\n",
              "    <tr>\n",
              "      <th>4</th>\n",
              "      <td>California</td>\n",
              "      <td>9.0</td>\n",
              "      <td>276</td>\n",
              "      <td>91</td>\n",
              "      <td>40.6</td>\n",
              "    </tr>\n",
              "  </tbody>\n",
              "</table>\n",
              "</div>"
            ],
            "text/plain": [
              "   Unnamed: 0  Murder  Assault  UrbanPop  Rape\n",
              "0     Alabama    13.2      236        58  21.2\n",
              "1      Alaska    10.0      263        48  44.5\n",
              "2     Arizona     8.1      294        80  31.0\n",
              "3    Arkansas     8.8      190        50  19.5\n",
              "4  California     9.0      276        91  40.6"
            ]
          },
          "metadata": {
            "tags": []
          },
          "execution_count": 4
        }
      ]
    },
    {
      "cell_type": "code",
      "metadata": {
        "colab": {
          "base_uri": "https://localhost:8080/"
        },
        "id": "_KCdHMX5pX4Z",
        "outputId": "e6328821-75ee-4e50-d15f-1bb2e31e1069"
      },
      "source": [
        "data.shape"
      ],
      "execution_count": 6,
      "outputs": [
        {
          "output_type": "execute_result",
          "data": {
            "text/plain": [
              "(50, 5)"
            ]
          },
          "metadata": {
            "tags": []
          },
          "execution_count": 6
        }
      ]
    },
    {
      "cell_type": "code",
      "metadata": {
        "colab": {
          "base_uri": "https://localhost:8080/"
        },
        "id": "XuUch92updCV",
        "outputId": "c09d8cb6-1b67-44ab-a6f1-8540c25e51b5"
      },
      "source": [
        "data.isna().sum()"
      ],
      "execution_count": 7,
      "outputs": [
        {
          "output_type": "execute_result",
          "data": {
            "text/plain": [
              "Unnamed: 0    0\n",
              "Murder        0\n",
              "Assault       0\n",
              "UrbanPop      0\n",
              "Rape          0\n",
              "dtype: int64"
            ]
          },
          "metadata": {
            "tags": []
          },
          "execution_count": 7
        }
      ]
    },
    {
      "cell_type": "code",
      "metadata": {
        "id": "SDwSF7FFphD9"
      },
      "source": [
        "#Normalizatio function\n",
        "from sklearn.preprocessing import StandardScaler\n",
        "scaler = StandardScaler()\n",
        "scaled_data_df = scaler.fit_transform(data.iloc[:,1:])"
      ],
      "execution_count": 8,
      "outputs": []
    },
    {
      "cell_type": "code",
      "metadata": {
        "colab": {
          "base_uri": "https://localhost:8080/"
        },
        "id": "pMbrzU75p7y-",
        "outputId": "74a3adde-0c1f-4382-f584-fb4464f71139"
      },
      "source": [
        "scaled_data_df"
      ],
      "execution_count": 9,
      "outputs": [
        {
          "output_type": "execute_result",
          "data": {
            "text/plain": [
              "array([[ 1.25517927,  0.79078716, -0.52619514, -0.00345116],\n",
              "       [ 0.51301858,  1.11805959, -1.22406668,  2.50942392],\n",
              "       [ 0.07236067,  1.49381682,  1.00912225,  1.05346626],\n",
              "       [ 0.23470832,  0.23321191, -1.08449238, -0.18679398],\n",
              "       [ 0.28109336,  1.2756352 ,  1.77678094,  2.08881393],\n",
              "       [ 0.02597562,  0.40290872,  0.86954794,  1.88390137],\n",
              "       [-1.04088037, -0.73648418,  0.79976079, -1.09272319],\n",
              "       [-0.43787481,  0.81502956,  0.45082502, -0.58583422],\n",
              "       [ 1.76541475,  1.99078607,  1.00912225,  1.1505301 ],\n",
              "       [ 2.22926518,  0.48775713, -0.38662083,  0.49265293],\n",
              "       [-0.57702994, -1.51224105,  1.21848371, -0.11129987],\n",
              "       [-1.20322802, -0.61527217, -0.80534376, -0.75839217],\n",
              "       [ 0.60578867,  0.94836277,  1.21848371,  0.29852525],\n",
              "       [-0.13637203, -0.70012057, -0.03768506, -0.0250209 ],\n",
              "       [-1.29599811, -1.39102904, -0.5959823 , -1.07115345],\n",
              "       [-0.41468229, -0.67587817,  0.03210209, -0.34856705],\n",
              "       [ 0.44344101, -0.74860538, -0.94491807, -0.53190987],\n",
              "       [ 1.76541475,  0.94836277,  0.03210209,  0.10439756],\n",
              "       [-1.31919063, -1.06375661, -1.01470522, -1.44862395],\n",
              "       [ 0.81452136,  1.56654403,  0.10188925,  0.70835037],\n",
              "       [-0.78576263, -0.26375734,  1.35805802, -0.53190987],\n",
              "       [ 1.00006153,  1.02108998,  0.59039932,  1.49564599],\n",
              "       [-1.1800355 , -1.19708982,  0.03210209, -0.68289807],\n",
              "       [ 1.9277624 ,  1.06957478, -1.5032153 , -0.44563089],\n",
              "       [ 0.28109336,  0.0877575 ,  0.31125071,  0.75148985],\n",
              "       [-0.41468229, -0.74860538, -0.87513091, -0.521125  ],\n",
              "       [-0.80895515, -0.83345379, -0.24704653, -0.51034012],\n",
              "       [ 1.02325405,  0.98472638,  1.0789094 ,  2.671197  ],\n",
              "       [-1.31919063, -1.37890783, -0.66576945, -1.26528114],\n",
              "       [-0.08998698, -0.14254532,  1.63720664, -0.26228808],\n",
              "       [ 0.83771388,  1.38472601,  0.31125071,  1.17209984],\n",
              "       [ 0.76813632,  1.00896878,  1.42784517,  0.52500755],\n",
              "       [ 1.20879423,  2.01502847, -1.43342815, -0.55347961],\n",
              "       [-1.62069341, -1.52436225, -1.5032153 , -1.50254831],\n",
              "       [-0.11317951, -0.61527217,  0.66018648,  0.01811858],\n",
              "       [-0.27552716, -0.23951493,  0.1716764 , -0.13286962],\n",
              "       [-0.66980002, -0.14254532,  0.10188925,  0.87012344],\n",
              "       [-0.34510472, -0.78496898,  0.45082502, -0.68289807],\n",
              "       [-1.01768785,  0.03927269,  1.49763233, -1.39469959],\n",
              "       [ 1.53348953,  1.3119988 , -1.22406668,  0.13675217],\n",
              "       [-0.92491776, -1.027393  , -1.43342815, -0.90938037],\n",
              "       [ 1.25517927,  0.20896951, -0.45640799,  0.61128652],\n",
              "       [ 1.13921666,  0.36654512,  1.00912225,  0.46029832],\n",
              "       [-1.06407289, -0.61527217,  1.00912225,  0.17989166],\n",
              "       [-1.29599811, -1.48799864, -2.34066115, -1.08193832],\n",
              "       [ 0.16513075, -0.17890893, -0.17725937, -0.05737552],\n",
              "       [-0.87853272, -0.31224214,  0.52061217,  0.53579242],\n",
              "       [-0.48425985, -1.08799901, -1.85215107, -1.28685088],\n",
              "       [-1.20322802, -1.42739264,  0.03210209, -1.1250778 ],\n",
              "       [-0.22914211, -0.11830292, -0.38662083, -0.60740397]])"
            ]
          },
          "metadata": {
            "tags": []
          },
          "execution_count": 9
        }
      ]
    },
    {
      "cell_type": "code",
      "metadata": {
        "id": "jkeQCC2Cp95P"
      },
      "source": [
        "#How to find optimum number of cluster\n",
        "# The K-Means algorithm aims to choose centroids that minimise the inertia, of (WCSS) within-cluster sum of-squared criterior"
      ],
      "execution_count": 10,
      "outputs": []
    },
    {
      "cell_type": "code",
      "metadata": {
        "colab": {
          "base_uri": "https://localhost:8080/",
          "height": 295
        },
        "id": "oZEmZ97Uqflt",
        "outputId": "3d950d27-7063-43bc-bc41-7447cf51941b"
      },
      "source": [
        "wcss = []\n",
        "for i in range(1,10):\n",
        "    kmeans = KMeans(n_clusters=i, random_state=0)\n",
        "    kmeans.fit(scaled_data_df)\n",
        "    wcss.append(kmeans.inertia_)\n",
        "\n",
        "plt.plot(range(1,10), wcss)\n",
        "plt.title('Elbow Method')\n",
        "plt.xlabel('Number of clusters')\n",
        "plt.ylabel('WCSS')\n",
        "plt.show()"
      ],
      "execution_count": 15,
      "outputs": [
        {
          "output_type": "display_data",
          "data": {
            "image/png": "[encoded data removed]",
            "text/plain": [
              "<Figure size 432x288 with 1 Axes>"
            ]
          },
          "metadata": {
            "tags": [],
            "needs_background": "light"
          }
        }
      ]
    },
    {
      "cell_type": "markdown",
      "metadata": {
        "id": "WStLMNSPr63I"
      },
      "source": [
        "\n",
        "K = 4 is the good value to be considered"
      ]
    },
    {
      "cell_type": "code",
      "metadata": {
        "colab": {
          "base_uri": "https://localhost:8080/"
        },
        "id": "uqDstkb0reLI",
        "outputId": "d47cc3b3-3043-4d35-aa95-08972a17f06a"
      },
      "source": [
        "#Build cluster algorithm\n",
        "from sklearn.cluster import KMeans\n",
        "clusters_new = KMeans(4, random_state=42)\n",
        "clusters_new.fit(scaled_data_df)"
      ],
      "execution_count": 16,
      "outputs": [
        {
          "output_type": "execute_result",
          "data": {
            "text/plain": [
              "KMeans(algorithm='auto', copy_x=True, init='k-means++', max_iter=300,\n",
              "       n_clusters=4, n_init=10, n_jobs=None, precompute_distances='auto',\n",
              "       random_state=42, tol=0.0001, verbose=0)"
            ]
          },
          "metadata": {
            "tags": []
          },
          "execution_count": 16
        }
      ]
    },
    {
      "cell_type": "code",
      "metadata": {
        "colab": {
          "base_uri": "https://localhost:8080/"
        },
        "id": "2n7mpnCUs1qf",
        "outputId": "4ffd9102-54a5-4a79-83df-c278d02552a0"
      },
      "source": [
        "clusters_new.labels_"
      ],
      "execution_count": 17,
      "outputs": [
        {
          "output_type": "execute_result",
          "data": {
            "text/plain": [
              "array([0, 3, 3, 0, 3, 3, 1, 1, 3, 0, 1, 2, 3, 1, 2, 1, 2, 0, 2, 3, 1, 3,\n",
              "       2, 0, 3, 2, 2, 3, 2, 1, 3, 3, 0, 2, 1, 1, 1, 1, 1, 0, 2, 0, 3, 1,\n",
              "       2, 1, 1, 2, 2, 1], dtype=int32)"
            ]
          },
          "metadata": {
            "tags": []
          },
          "execution_count": 17
        }
      ]
    },
    {
      "cell_type": "code",
      "metadata": {
        "id": "ii12MuIas7e7"
      },
      "source": [
        "#Assign clusters to the data set\n",
        "data['Clusterid_new'] = clusters_new.labels_"
      ],
      "execution_count": 18,
      "outputs": []
    },
    {
      "cell_type": "code",
      "metadata": {
        "colab": {
          "base_uri": "https://localhost:8080/",
          "height": 204
        },
        "id": "b6e6XHd0tMvS",
        "outputId": "e42b9994-1aaa-4c8b-f09d-0ab7fed6afae"
      },
      "source": [
        "data.head()"
      ],
      "execution_count": 20,
      "outputs": [
        {
          "output_type": "execute_result",
          "data": {
            "text/html": [
              "<div>\n",
              "<style scoped>\n",
              "    .dataframe tbody tr th:only-of-type {\n",
              "        vertical-align: middle;\n",
              "    }\n",
              "\n",
              "    .dataframe tbody tr th {\n",
              "        vertical-align: top;\n",
              "    }\n",
              "\n",
              "    .dataframe thead th {\n",
              "        text-align: right;\n",
              "    }\n",
              "</style>\n",
              "<table border=\"1\" class=\"dataframe\">\n",
              "  <thead>\n",
              "    <tr style=\"text-align: right;\">\n",
              "      <th></th>\n",
              "      <th>Unnamed: 0</th>\n",
              "      <th>Murder</th>\n",
              "      <th>Assault</th>\n",
              "      <th>UrbanPop</th>\n",
              "      <th>Rape</th>\n",
              "      <th>Clusterid_new</th>\n",
              "    </tr>\n",
              "  </thead>\n",
              "  <tbody>\n",
              "    <tr>\n",
              "      <th>0</th>\n",
              "      <td>Alabama</td>\n",
              "      <td>13.2</td>\n",
              "      <td>236</td>\n",
              "      <td>58</td>\n",
              "      <td>21.2</td>\n",
              "      <td>0</td>\n",
              "    </tr>\n",
              "    <tr>\n",
              "      <th>1</th>\n",
              "      <td>Alaska</td>\n",
              "      <td>10.0</td>\n",
              "      <td>263</td>\n",
              "      <td>48</td>\n",
              "      <td>44.5</td>\n",
              "      <td>3</td>\n",
              "    </tr>\n",
              "    <tr>\n",
              "      <th>2</th>\n",
              "      <td>Arizona</td>\n",
              "      <td>8.1</td>\n",
              "      <td>294</td>\n",
              "      <td>80</td>\n",
              "      <td>31.0</td>\n",
              "      <td>3</td>\n",
              "    </tr>\n",
              "    <tr>\n",
              "      <th>3</th>\n",
              "      <td>Arkansas</td>\n",
              "      <td>8.8</td>\n",
              "      <td>190</td>\n",
              "      <td>50</td>\n",
              "      <td>19.5</td>\n",
              "      <td>0</td>\n",
              "    </tr>\n",
              "    <tr>\n",
              "      <th>4</th>\n",
              "      <td>California</td>\n",
              "      <td>9.0</td>\n",
              "      <td>276</td>\n",
              "      <td>91</td>\n",
              "      <td>40.6</td>\n",
              "      <td>3</td>\n",
              "    </tr>\n",
              "  </tbody>\n",
              "</table>\n",
              "</div>"
            ],
            "text/plain": [
              "   Unnamed: 0  Murder  Assault  UrbanPop  Rape  Clusterid_new\n",
              "0     Alabama    13.2      236        58  21.2              0\n",
              "1      Alaska    10.0      263        48  44.5              3\n",
              "2     Arizona     8.1      294        80  31.0              3\n",
              "3    Arkansas     8.8      190        50  19.5              0\n",
              "4  California     9.0      276        91  40.6              3"
            ]
          },
          "metadata": {
            "tags": []
          },
          "execution_count": 20
        }
      ]
    },
    {
      "cell_type": "code",
      "metadata": {
        "colab": {
          "base_uri": "https://localhost:8080/",
          "height": 204
        },
        "id": "6W-lfHcRtQUk",
        "outputId": "e219f5df-1d09-4c13-982d-b16b3cf4e6a1"
      },
      "source": [
        "data.groupby('Clusterid_new').agg(['mean']).reset_index()"
      ],
      "execution_count": 22,
      "outputs": [
        {
          "output_type": "execute_result",
          "data": {
            "text/html": [
              "<div>\n",
              "<style scoped>\n",
              "    .dataframe tbody tr th:only-of-type {\n",
              "        vertical-align: middle;\n",
              "    }\n",
              "\n",
              "    .dataframe tbody tr th {\n",
              "        vertical-align: top;\n",
              "    }\n",
              "\n",
              "    .dataframe thead tr th {\n",
              "        text-align: left;\n",
              "    }\n",
              "</style>\n",
              "<table border=\"1\" class=\"dataframe\">\n",
              "  <thead>\n",
              "    <tr>\n",
              "      <th></th>\n",
              "      <th>Clusterid_new</th>\n",
              "      <th>Murder</th>\n",
              "      <th>Assault</th>\n",
              "      <th>UrbanPop</th>\n",
              "      <th>Rape</th>\n",
              "    </tr>\n",
              "    <tr>\n",
              "      <th></th>\n",
              "      <th></th>\n",
              "      <th>mean</th>\n",
              "      <th>mean</th>\n",
              "      <th>mean</th>\n",
              "      <th>mean</th>\n",
              "    </tr>\n",
              "  </thead>\n",
              "  <tbody>\n",
              "    <tr>\n",
              "      <th>0</th>\n",
              "      <td>0</td>\n",
              "      <td>13.937500</td>\n",
              "      <td>243.625000</td>\n",
              "      <td>53.750000</td>\n",
              "      <td>21.412500</td>\n",
              "    </tr>\n",
              "    <tr>\n",
              "      <th>1</th>\n",
              "      <td>1</td>\n",
              "      <td>5.656250</td>\n",
              "      <td>138.875000</td>\n",
              "      <td>73.875000</td>\n",
              "      <td>18.781250</td>\n",
              "    </tr>\n",
              "    <tr>\n",
              "      <th>2</th>\n",
              "      <td>2</td>\n",
              "      <td>3.600000</td>\n",
              "      <td>78.538462</td>\n",
              "      <td>52.076923</td>\n",
              "      <td>12.176923</td>\n",
              "    </tr>\n",
              "    <tr>\n",
              "      <th>3</th>\n",
              "      <td>3</td>\n",
              "      <td>10.815385</td>\n",
              "      <td>257.384615</td>\n",
              "      <td>76.000000</td>\n",
              "      <td>33.192308</td>\n",
              "    </tr>\n",
              "  </tbody>\n",
              "</table>\n",
              "</div>"
            ],
            "text/plain": [
              "  Clusterid_new     Murder     Assault   UrbanPop       Rape\n",
              "                      mean        mean       mean       mean\n",
              "0             0  13.937500  243.625000  53.750000  21.412500\n",
              "1             1   5.656250  138.875000  73.875000  18.781250\n",
              "2             2   3.600000   78.538462  52.076923  12.176923\n",
              "3             3  10.815385  257.384615  76.000000  33.192308"
            ]
          },
          "metadata": {
            "tags": []
          },
          "execution_count": 22
        }
      ]
    },
    {
      "cell_type": "markdown",
      "metadata": {
        "id": "2rLOJPFyv7wD"
      },
      "source": [
        "##Observation : \n",
        "####1) average of murder is more in cluster 0\n",
        "####2) average of Assault is more in cluster 3\n",
        "####3) average of Urbanpop is more in cluster 3\n",
        "####4) average of rape is more in cluster 3\n",
        "\n",
        "##Conclusion :\n",
        "####Cluster 3 has more number of Assault, UrbanPop and Rape"
      ]
    },
    {
      "cell_type": "code",
      "metadata": {
        "id": "QSwsEIovvjwZ"
      },
      "source": [
        ""
      ],
      "execution_count": null,
      "outputs": []
    }
  ]
}